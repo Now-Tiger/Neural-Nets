{
  "nbformat": 4,
  "nbformat_minor": 0,
  "metadata": {
    "colab": {
      "name": "Tensorflow-Keras-MNIST.ipynb",
      "provenance": []
    },
    "kernelspec": {
      "name": "python3",
      "display_name": "Python 3"
    },
    "language_info": {
      "name": "python"
    }
  },
  "cells": [
    {
      "cell_type": "code",
      "metadata": {
        "id": "AXxsmKOPr7Yf"
      },
      "source": [
        "import numpy as np\n",
        "import pandas as pd\n",
        "import seaborn as sns\n",
        "import tensorflow as tf\n",
        "import matplotlib.pyplot as plt\n",
        "import warnings \n",
        "warnings.filterwarnings('ignore')"
      ],
      "execution_count": 1,
      "outputs": []
    },
    {
      "cell_type": "code",
      "metadata": {
        "colab": {
          "base_uri": "https://localhost:8080/",
          "height": 35
        },
        "id": "__AFShxKs3VQ",
        "outputId": "a4af8d29-6e47-49cb-c3b6-909e5f7a3e16"
      },
      "source": [
        "tf.__version__"
      ],
      "execution_count": 2,
      "outputs": [
        {
          "output_type": "execute_result",
          "data": {
            "application/vnd.google.colaboratory.intrinsic+json": {
              "type": "string"
            },
            "text/plain": [
              "'2.6.0'"
            ]
          },
          "metadata": {},
          "execution_count": 2
        }
      ]
    },
    {
      "cell_type": "code",
      "metadata": {
        "id": "SE1dV15AtsfW"
      },
      "source": [
        "# ---------------------------------- Import and load dataset ----------------------------------\n",
        "mnist = tf.keras.datasets.mnist\n",
        "np.random.seed(5)\n",
        "# ---------------------------------------------------------------------------------------------\n",
        "(X_train_full, y_train_full),(X_test, y_test) = mnist.load_data()"
      ],
      "execution_count": 3,
      "outputs": []
    },
    {
      "cell_type": "code",
      "metadata": {
        "colab": {
          "base_uri": "https://localhost:8080/"
        },
        "id": "0oKJG2cgvAsh",
        "outputId": "639d845a-73c5-4ad8-a141-01f9e1e8e1d5"
      },
      "source": [
        "print(X_train_full.shape, y_train_full.shape)"
      ],
      "execution_count": 4,
      "outputs": [
        {
          "output_type": "stream",
          "name": "stdout",
          "text": [
            "(60000, 28, 28) (60000,)\n"
          ]
        }
      ]
    },
    {
      "cell_type": "code",
      "metadata": {
        "colab": {
          "base_uri": "https://localhost:8080/"
        },
        "id": "WUvkE9rjvIww",
        "outputId": "680116b5-8d3e-4199-b403-20b4086a87df"
      },
      "source": [
        "print(X_test.shape, y_test.shape)"
      ],
      "execution_count": 5,
      "outputs": [
        {
          "output_type": "stream",
          "name": "stdout",
          "text": [
            "(10000, 28, 28) (10000,)\n"
          ]
        }
      ]
    },
    {
      "cell_type": "markdown",
      "metadata": {
        "id": "mT_QXSr7vZgC"
      },
      "source": [
        "## Creating validation datasets from full training dataset."
      ]
    },
    {
      "cell_type": "code",
      "metadata": {
        "id": "2rhpyXIavL_o"
      },
      "source": [
        "# -------- Scale the data between 0 to 1 by dividing it by 255. as its an unsigned data between 0-255 range --------\n",
        "X_valid, X_train = X_train_full[:5000] / 255., X_train_full[5000:] / 255.\n",
        "\n",
        "y_valid, y_train = y_train_full[:5000], y_train_full[5000:]\n",
        "\n",
        "# ------------------------------- scale the test set as well -------------------------------\n",
        "X_test = X_test / 255. "
      ],
      "execution_count": 6,
      "outputs": []
    },
    {
      "cell_type": "code",
      "metadata": {
        "colab": {
          "base_uri": "https://localhost:8080/"
        },
        "id": "ILOiTS9vwWZZ",
        "outputId": "b5a47a17-6949-48dc-8b58-625f84ae3d77"
      },
      "source": [
        "print(X_train.shape, X_valid.shape, y_train.shape, y_valid.shape)"
      ],
      "execution_count": 7,
      "outputs": [
        {
          "output_type": "stream",
          "name": "stdout",
          "text": [
            "(55000, 28, 28) (5000, 28, 28) (55000,) (5000,)\n"
          ]
        }
      ]
    },
    {
      "cell_type": "code",
      "metadata": {
        "colab": {
          "base_uri": "https://localhost:8080/",
          "height": 657
        },
        "id": "zLSxWmDTwj6H",
        "outputId": "c6be4621-40a2-4275-8e52-fa6b24196173"
      },
      "source": [
        "# -------------------------- lets view the first data point of X_train --------------------------\n",
        "plt.figure(figsize = (12, 9))\n",
        "sns.heatmap(X_train[2], annot = True, cmap = 'binary')\n",
        "plt.tight_layout();"
      ],
      "execution_count": 8,
      "outputs": [
        {
          "output_type": "display_data",
          "data": {
            "image/png": "[encoded data removed]",
            "text/plain": [
              "<Figure size 864x648 with 2 Axes>"
            ]
          },
          "metadata": {
            "needs_background": "light"
          }
        }
      ]
    },
    {
      "cell_type": "code",
      "metadata": {
        "colab": {
          "base_uri": "https://localhost:8080/",
          "height": 357
        },
        "id": "HusfMGPJxyea",
        "outputId": "33f8c6cc-2f73-47b8-d270-1993fccfd202"
      },
      "source": [
        "plt.figure(figsize = (7, 6))\n",
        "plt.imshow(X_train[2], cmap = 'binary')\n",
        "plt.axis('off')\n",
        "plt.show()"
      ],
      "execution_count": 9,
      "outputs": [
        {
          "output_type": "display_data",
          "data": {
            "image/png": "[encoded data removed]",
            "text/plain": [
              "<Figure size 504x432 with 1 Axes>"
            ]
          },
          "metadata": {
            "needs_background": "light"
          }
        }
      ]
    },
    {
      "cell_type": "code",
      "metadata": {
        "colab": {
          "base_uri": "https://localhost:8080/",
          "height": 357
        },
        "id": "0x8E56nuyS6J",
        "outputId": "44dcffcb-269d-4124-e953-cfd4aa9f6108"
      },
      "source": [
        "plt.figure(figsize = (7, 6))\n",
        "plt.imshow(X_train[0], cmap = 'binary')\n",
        "plt.axis('off')\n",
        "plt.show()"
      ],
      "execution_count": 10,
      "outputs": [
        {
          "output_type": "display_data",
          "data": {
            "image/png": "[encoded data removed]",
            "text/plain": [
              "<Figure size 504x432 with 1 Axes>"
            ]
          },
          "metadata": {
            "needs_background": "light"
          }
        }
      ]
    },
    {
      "cell_type": "markdown",
      "metadata": {
        "id": "i_JvI8L1ytCI"
      },
      "source": [
        "## Build the model :"
      ]
    },
    {
      "cell_type": "code",
      "metadata": {
        "id": "ZZS3Da4F1Lr_"
      },
      "source": [
        "from keras.layers import Dropout"
      ],
      "execution_count": 11,
      "outputs": []
    },
    {
      "cell_type": "code",
      "metadata": {
        "colab": {
          "base_uri": "https://localhost:8080/"
        },
        "id": "CyNjpFm2ygkY",
        "outputId": "c1e2f9f8-746f-47df-eef6-8719fea97889"
      },
      "source": [
        "model = tf.keras.models.Sequential()\n",
        "\n",
        "# -------------------- Input Layer -------------------------\n",
        "model.add(tf.keras.layers.Flatten(input_shape = [28, 28]))\n",
        "\n",
        "# -------------------- Hidden layer : First --------------------\n",
        "model.add(tf.keras.layers.Dense(784, activation = 'relu'))\n",
        "model.add(Dropout(0.2))\n",
        "\n",
        "# ------------------- Hidden layer : Second --------------------\n",
        "model.add(tf.keras.layers.Dense(512, activation = 'relu'))\n",
        "model.add(Dropout(0.2))\n",
        "\n",
        "# -------------------- Output layer ------------------------\n",
        "model.add(tf.keras.layers.Dense(10, activation = 'softmax'))\n",
        "# ----------------------------------------------------------\n",
        "model.summary()"
      ],
      "execution_count": 12,
      "outputs": [
        {
          "output_type": "stream",
          "name": "stdout",
          "text": [
            "Model: \"sequential\"\n",
            "_________________________________________________________________\n",
            "Layer (type)                 Output Shape              Param #   \n",
            "=================================================================\n",
            "flatten (Flatten)            (None, 784)               0         \n",
            "_________________________________________________________________\n",
            "dense (Dense)                (None, 784)               615440    \n",
            "_________________________________________________________________\n",
            "dropout (Dropout)            (None, 784)               0         \n",
            "_________________________________________________________________\n",
            "dense_1 (Dense)              (None, 512)               401920    \n",
            "_________________________________________________________________\n",
            "dropout_1 (Dropout)          (None, 512)               0         \n",
            "_________________________________________________________________\n",
            "dense_2 (Dense)              (None, 10)                5130      \n",
            "=================================================================\n",
            "Total params: 1,022,490\n",
            "Trainable params: 1,022,490\n",
            "Non-trainable params: 0\n",
            "_________________________________________________________________\n"
          ]
        }
      ]
    },
    {
      "cell_type": "code",
      "metadata": {
        "colab": {
          "base_uri": "https://localhost:8080/"
        },
        "id": "Ip81ecQE0uYo",
        "outputId": "651edb4d-ac91-4656-b6ee-869167e07ecb"
      },
      "source": [
        "# firsLayer * secondLayer + bias\n",
        "print(784*784 + 784, 784*512+512, 512*10+10)"
      ],
      "execution_count": 13,
      "outputs": [
        {
          "output_type": "stream",
          "name": "stdout",
          "text": [
            "615440 401920 5130\n"
          ]
        }
      ]
    },
    {
      "cell_type": "code",
      "metadata": {
        "colab": {
          "base_uri": "https://localhost:8080/"
        },
        "id": "n4uspYan1rxu",
        "outputId": "ee64a323-482b-4e80-d569-d6b2d76d501e"
      },
      "source": [
        "%%time\n",
        "loss_function = 'sparse_categorical_crossentropy'       # use => tf.losses.sparse_categorical_crossentropy\n",
        "optimizer = 'SGD'                                       # or use with custom learning rate=> tf.keras.optimizers.SGD(0.02)\n",
        "metrics = ['accuracy']\n",
        "\n",
        "model.compile(loss = loss_function, optimizer = optimizer, metrics = metrics)\n",
        "\n",
        "# ----------------------------------- fit the model -----------------------------------\n",
        "model.fit(X_train, y_train, epochs = 2)"
      ],
      "execution_count": 14,
      "outputs": [
        {
          "output_type": "stream",
          "name": "stdout",
          "text": [
            "Epoch 1/2\n",
            "1719/1719 [==============================] - 20s 11ms/step - loss: 0.6279 - accuracy: 0.8290\n",
            "Epoch 2/2\n",
            "1719/1719 [==============================] - 19s 11ms/step - loss: 0.3149 - accuracy: 0.9078\n",
            "CPU times: user 58.1 s, sys: 2.94 s, total: 1min 1s\n",
            "Wall time: 39 s\n"
          ]
        }
      ]
    },
    {
      "cell_type": "code",
      "metadata": {
        "colab": {
          "base_uri": "https://localhost:8080/"
        },
        "id": "sSF6vkUH2npy",
        "outputId": "3c684ae6-c3db-4bda-8189-1011789bfd8c"
      },
      "source": [
        "model.fit(X_train, y_train, epochs = 2, verbose = 1, validation_data = (X_valid, y_valid))"
      ],
      "execution_count": 15,
      "outputs": [
        {
          "output_type": "stream",
          "name": "stdout",
          "text": [
            "Epoch 1/2\n",
            "1719/1719 [==============================] - 20s 12ms/step - loss: 0.2542 - accuracy: 0.9262 - val_loss: 0.1905 - val_accuracy: 0.9476\n",
            "Epoch 2/2\n",
            "1719/1719 [==============================] - 19s 11ms/step - loss: 0.2152 - accuracy: 0.9376 - val_loss: 0.1662 - val_accuracy: 0.9532\n"
          ]
        },
        {
          "output_type": "execute_result",
          "data": {
            "text/plain": [
              "<keras.callbacks.History at 0x7fa68a71f6d0>"
            ]
          },
          "metadata": {},
          "execution_count": 15
        }
      ]
    },
    {
      "cell_type": "code",
      "metadata": {
        "colab": {
          "base_uri": "https://localhost:8080/"
        },
        "id": "T3eR_Z1x3KZ0",
        "outputId": "979f3efe-6a66-47d3-8cc7-9c2a43f46a88"
      },
      "source": [
        "model = tf.keras.models.Sequential()\n",
        "model.add(tf.keras.layers.Flatten(input_shape = [28, 28]))\n",
        "model.add(tf.keras.layers.Dense(300, activation = 'relu'))\n",
        "# model.add(Dropout(.2))\n",
        "model.add(tf.keras.layers.Dense(200, activation = 'relu'))\n",
        "# model.add(Dropout(.2))\n",
        "model.add(tf.keras.layers.Dense(100, activation = 'softmax'))\n",
        "\n",
        "model.summary()"
      ],
      "execution_count": 16,
      "outputs": [
        {
          "output_type": "stream",
          "name": "stdout",
          "text": [
            "Model: \"sequential_1\"\n",
            "_________________________________________________________________\n",
            "Layer (type)                 Output Shape              Param #   \n",
            "=================================================================\n",
            "flatten_1 (Flatten)          (None, 784)               0         \n",
            "_________________________________________________________________\n",
            "dense_3 (Dense)              (None, 300)               235500    \n",
            "_________________________________________________________________\n",
            "dense_4 (Dense)              (None, 200)               60200     \n",
            "_________________________________________________________________\n",
            "dense_5 (Dense)              (None, 100)               20100     \n",
            "=================================================================\n",
            "Total params: 315,800\n",
            "Trainable params: 315,800\n",
            "Non-trainable params: 0\n",
            "_________________________________________________________________\n"
          ]
        }
      ]
    },
    {
      "cell_type": "code",
      "metadata": {
        "colab": {
          "base_uri": "https://localhost:8080/"
        },
        "id": "eCpyWKPu4nLP",
        "outputId": "804a4065-52a0-451a-de1e-6355ab8c2504"
      },
      "source": [
        "model.compile(loss = loss_function, optimizer = optimizer, metrics = metrics);\n",
        "# ----------------------------------------------------------------------------------------\n",
        "model.fit(X_train, y_train, epochs = 2, verbose = 1, validation_data = (X_valid, y_valid))"
      ],
      "execution_count": 17,
      "outputs": [
        {
          "output_type": "stream",
          "name": "stdout",
          "text": [
            "Epoch 1/2\n",
            "1719/1719 [==============================] - 7s 4ms/step - loss: 0.6951 - accuracy: 0.8291 - val_loss: 0.3255 - val_accuracy: 0.9064\n",
            "Epoch 2/2\n",
            "1719/1719 [==============================] - 7s 4ms/step - loss: 0.3087 - accuracy: 0.9119 - val_loss: 0.2587 - val_accuracy: 0.9290\n"
          ]
        },
        {
          "output_type": "execute_result",
          "data": {
            "text/plain": [
              "<keras.callbacks.History at 0x7fa68a717210>"
            ]
          },
          "metadata": {},
          "execution_count": 17
        }
      ]
    },
    {
      "cell_type": "code",
      "metadata": {
        "colab": {
          "base_uri": "https://localhost:8080/"
        },
        "id": "Z2qzNTts5f28",
        "outputId": "09ac81d8-2e59-4a4b-c703-349106388dc3"
      },
      "source": [
        "model.fit(X_train, y_train,\n",
        "                    epochs=2,\n",
        "                    verbose=1,\n",
        "                    validation_data=(X_test, y_test))"
      ],
      "execution_count": 18,
      "outputs": [
        {
          "output_type": "stream",
          "name": "stdout",
          "text": [
            "Epoch 1/2\n",
            "1719/1719 [==============================] - 7s 4ms/step - loss: 0.2567 - accuracy: 0.9266 - val_loss: 0.2325 - val_accuracy: 0.9360\n",
            "Epoch 2/2\n",
            "1719/1719 [==============================] - 7s 4ms/step - loss: 0.2211 - accuracy: 0.9367 - val_loss: 0.2059 - val_accuracy: 0.9406\n"
          ]
        },
        {
          "output_type": "execute_result",
          "data": {
            "text/plain": [
              "<keras.callbacks.History at 0x7fa68a717510>"
            ]
          },
          "metadata": {},
          "execution_count": 18
        }
      ]
    },
    {
      "cell_type": "code",
      "metadata": {
        "id": "iF9AK-FN5zqm"
      },
      "source": [
        ""
      ],
      "execution_count": 18,
      "outputs": []
    }
  ]
}