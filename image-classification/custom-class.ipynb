{
 "cells": [
  {
   "cell_type": "markdown",
   "metadata": {},
   "source": [
    "## Custom class implementation using Keras Api :\n",
    "\n",
    "- source : tensorflow "
   ]
  },
  {
   "cell_type": "code",
   "execution_count": 1,
   "metadata": {},
   "outputs": [],
   "source": [
    "import os\n",
    "import tensorflow as tf \n",
    "from tensorflow.keras import Model\n",
    "from tensorflow.keras.layers import Dense, Flatten, Conv2D\n",
    "from warnings import filterwarnings\n",
    "filterwarnings('ignore')\n",
    "os.environ['TF_CPP_MIN_LOG_LEVEL'] = '3'"
   ]
  },
  {
   "cell_type": "code",
   "execution_count": 2,
   "metadata": {},
   "outputs": [
    {
     "data": {
      "text/plain": [
       "'2.6.0'"
      ]
     },
     "execution_count": 2,
     "metadata": {},
     "output_type": "execute_result"
    }
   ],
   "source": [
    "tf.__version__"
   ]
  },
  {
   "cell_type": "code",
   "execution_count": 3,
   "metadata": {},
   "outputs": [
    {
     "name": "stdout",
     "output_type": "stream",
     "text": [
      "1 \n",
      "\n"
     ]
    }
   ],
   "source": [
    "print(len(tf.config.list_physical_devices('GPU')),'\\n')"
   ]
  },
  {
   "cell_type": "markdown",
   "metadata": {},
   "source": [
    "## Load and perpare MNIST dataset."
   ]
  },
  {
   "cell_type": "code",
   "execution_count": 4,
   "metadata": {},
   "outputs": [
    {
     "name": "stdout",
     "output_type": "stream",
     "text": [
      "(60000, 28, 28) (60000,)\n",
      "(10000, 28, 28) (10000,)\n"
     ]
    }
   ],
   "source": [
    "mnist = tf.keras.datasets.mnist\n",
    "(trainInputs, trainTarget), (testInputs, testTarget) = mnist.load_data()\n",
    "\n",
    "print(trainInputs.shape, trainTarget.shape)\n",
    "print(testInputs.shape, testTarget.shape)"
   ]
  },
  {
   "cell_type": "code",
   "execution_count": 5,
   "metadata": {},
   "outputs": [],
   "source": [
    "trainInputs, testInputs = trainInputs / 255.0, testInputs / 255.0\n",
    "\n",
    "# Add a channels dimension :\n",
    "trainInputs = trainInputs[..., tf.newaxis].astype(\"float32\")\n",
    "testInputs = testInputs[..., tf.newaxis].astype(\"float32\")"
   ]
  },
  {
   "cell_type": "code",
   "execution_count": 6,
   "metadata": {},
   "outputs": [
    {
     "name": "stdout",
     "output_type": "stream",
     "text": [
      "(60000, 28, 28, 1) (10000, 28, 28, 1)\n"
     ]
    }
   ],
   "source": [
    "print(trainInputs.shape, testInputs.shape)"
   ]
  },
  {
   "cell_type": "markdown",
   "metadata": {},
   "source": [
    "- tf.data to shuffle the dataset :"
   ]
  },
  {
   "cell_type": "code",
   "execution_count": 7,
   "metadata": {},
   "outputs": [],
   "source": [
    "trainDs = tf.data.Dataset.from_tensor_slices((trainInputs, trainTarget)).shuffle(10000).batch(32)\n",
    "\n",
    "testDs = tf.data.Dataset.from_tensor_slices((testInputs, testTarget)).batch(32)"
   ]
  },
  {
   "cell_type": "markdown",
   "metadata": {},
   "source": [
    "## Build custom model using Keras model subclassing API :"
   ]
  },
  {
   "cell_type": "code",
   "execution_count": 8,
   "metadata": {},
   "outputs": [],
   "source": [
    "class model(Model) :\n",
    "    def __init__(self) :\n",
    "        super(model, self).__init__()\n",
    "        self.conv1 = Conv2D(32, 2, activation = 'relu')\n",
    "        self.flatten = Flatten()\n",
    "        self.d1 = Dense(128, activation = 'relu')\n",
    "        self.d2 = Dense(10)\n",
    "\n",
    "    def call(self, x) :\n",
    "        x = self.conv1(x)\n",
    "        x = self.flatten(x)\n",
    "        x = self.d1(x)\n",
    "        return self.d2(x)\n",
    "\n",
    "# Create an instance of the model :\n",
    "Model = model()"
   ]
  },
  {
   "cell_type": "markdown",
   "metadata": {},
   "source": [
    "- Choose an optimizer and loss function for training:"
   ]
  },
  {
   "cell_type": "code",
   "execution_count": 9,
   "metadata": {},
   "outputs": [],
   "source": [
    "lossObj = tf.keras.losses.SparseCategoricalCrossentropy(from_logits = True)\n",
    "\n",
    "optimizer = tf.keras.optimizers.Adam()"
   ]
  },
  {
   "cell_type": "markdown",
   "metadata": {},
   "source": [
    "- Select metrics to measure the loss and the accuracy of the model. These metrics accumulate the values over epochs and then print the overall result."
   ]
  },
  {
   "cell_type": "code",
   "execution_count": 10,
   "metadata": {},
   "outputs": [],
   "source": [
    "trainLoss = tf.keras.metrics.Mean(name = 'trainLoss')\n",
    "trainAccuracy = tf.keras.metrics.SparseCategoricalAccuracy(name = 'trainAccuracy')\n",
    "\n",
    "testLoss = tf.keras.metrics.Mean(name = 'testLoss')\n",
    "testAccuracy = tf.keras.metrics.SparseCategoricalAccuracy(name = 'testAccuracy')\n"
   ]
  },
  {
   "cell_type": "code",
   "execution_count": 11,
   "metadata": {},
   "outputs": [],
   "source": [
    "# -------------- train the model using gradient descent --------------\n",
    "\n",
    "@tf.function\n",
    "def trainStep(images, labels) :\n",
    "    with tf.GradientTape() as tape :\n",
    "        predictions = Model(images, training = True)\n",
    "        loss = lossObj(labels, predictions)\n",
    "    gradients = tape.gradient(loss, Model.trainable_variables)\n",
    "    optimizer.apply_gradients(zip(gradients, Model.trainable_variables))\n",
    "\n",
    "    trainLoss(loss)\n",
    "    trainAccuracy(labels, predictions)"
   ]
  },
  {
   "cell_type": "markdown",
   "metadata": {},
   "source": [
    "## Test the model :"
   ]
  },
  {
   "cell_type": "code",
   "execution_count": 12,
   "metadata": {},
   "outputs": [],
   "source": [
    "@tf.function\n",
    "def testStep(images, labels) :\n",
    "    predictions = Model(images, training = False)\n",
    "    tLoss = lossObj(labels, predictions)\n",
    "\n",
    "    testLoss(tLoss)\n",
    "    testAccuracy(labels, predictions)"
   ]
  },
  {
   "cell_type": "code",
   "execution_count": 13,
   "metadata": {},
   "outputs": [
    {
     "name": "stdout",
     "output_type": "stream",
     "text": [
      "Epoch 1, Loss : 0.17003782093524933, Accuracy : 94.9383316040039, Test Loss : 0.07792789489030838, Test Accuracy : 97.62999725341797\n",
      "Epoch 2, Loss : 0.05009588226675987, Accuracy : 98.49333190917969, Test Loss : 0.06883905827999115, Test Accuracy : 97.75\n",
      "Epoch 3, Loss : 0.025055253878235817, Accuracy : 99.26499938964844, Test Loss : 0.0640917420387268, Test Accuracy : 98.07999420166016\n",
      "Epoch 4, Loss : 0.013801013119518757, Accuracy : 99.52832794189453, Test Loss : 0.06464999169111252, Test Accuracy : 98.16999816894531\n",
      "Epoch 5, Loss : 0.010244538076221943, Accuracy : 99.6383285522461, Test Loss : 0.06668376922607422, Test Accuracy : 98.22999572753906\n"
     ]
    }
   ],
   "source": [
    "EPOCHS = 5\n",
    "\n",
    "for epoch in range(EPOCHS) :\n",
    "    # Reset the metrics at the start of the next episode \n",
    "    trainLoss.reset_states()\n",
    "    trainAccuracy.reset_states()\n",
    "    testLoss.reset_states()\n",
    "    testAccuracy.reset_states()\n",
    "\n",
    "    for images, labels in trainDs :\n",
    "        trainStep(images, labels)\n",
    "    \n",
    "    for testImages, testLabels in testDs :\n",
    "        testStep(testImages, testLabels)\n",
    "\n",
    "    print(\n",
    "        f'Epoch {epoch + 1}, '\n",
    "        f'Loss : {trainLoss.result()}, '\n",
    "        f'Accuracy : {trainAccuracy.result() * 100}, '\n",
    "        f'Test Loss : {testLoss.result()}, '\n",
    "        f'Test Accuracy : {testAccuracy.result() * 100}'\n",
    "    )"
   ]
  },
  {
   "cell_type": "code",
   "execution_count": null,
   "metadata": {},
   "outputs": [],
   "source": []
  }
 ],
 "metadata": {
  "interpreter": {
   "hash": "c35f6eac6f3fe6d44c0d00cedee1307ae7ac6edc6c6c5d60ef5de60b3ff09a2d"
  },
  "kernelspec": {
   "display_name": "Python 3.8.11 64-bit ('tensor': conda)",
   "language": "python",
   "name": "python3"
  },
  "language_info": {
   "codemirror_mode": {
    "name": "ipython",
    "version": 3
   },
   "file_extension": ".py",
   "mimetype": "text/x-python",
   "name": "python",
   "nbconvert_exporter": "python",
   "pygments_lexer": "ipython3",
   "version": "3.8.11"
  },
  "orig_nbformat": 4
 },
 "nbformat": 4,
 "nbformat_minor": 2
}
