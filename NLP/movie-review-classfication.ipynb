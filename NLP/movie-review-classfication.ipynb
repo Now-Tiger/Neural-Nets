{
 "cells": [
  {
   "cell_type": "markdown",
   "metadata": {},
   "source": [
    "## Classifying movie reviews : A binary classification example"
   ]
  },
  {
   "cell_type": "code",
   "execution_count": 1,
   "metadata": {},
   "outputs": [],
   "source": [
    "import os\n",
    "import tensorflow as tf\n",
    "from tensorflow.keras.datasets import imdb\n",
    "from warnings import filterwarnings\n",
    "filterwarnings('ignore')\n",
    "os.environ['TF_CPP_MIN_LOG_LEVEL'] = '3'"
   ]
  },
  {
   "cell_type": "code",
   "execution_count": 2,
   "metadata": {},
   "outputs": [
    {
     "data": {
      "text/plain": [
       "'2.6.0'"
      ]
     },
     "execution_count": 2,
     "metadata": {},
     "output_type": "execute_result"
    }
   ],
   "source": [
    "tf.__version__"
   ]
  },
  {
   "cell_type": "code",
   "execution_count": 3,
   "metadata": {},
   "outputs": [],
   "source": [
    "(trainInputs, trainTarget), (testInputs, testTarget) = imdb.load_data(num_words = 10000)"
   ]
  },
  {
   "cell_type": "code",
   "execution_count": 4,
   "metadata": {},
   "outputs": [
    {
     "data": {
      "text/plain": [
       "1"
      ]
     },
     "execution_count": 4,
     "metadata": {},
     "output_type": "execute_result"
    }
   ],
   "source": [
    "# trainInputs[0]\n",
    "trainTarget[0]"
   ]
  },
  {
   "cell_type": "code",
   "execution_count": 5,
   "metadata": {},
   "outputs": [
    {
     "data": {
      "text/plain": [
       "9999"
      ]
     },
     "execution_count": 5,
     "metadata": {},
     "output_type": "execute_result"
    }
   ],
   "source": [
    "max(max(sequence) for sequence in trainInputs)"
   ]
  },
  {
   "cell_type": "markdown",
   "metadata": {},
   "source": [
    "For kicks, here’s how you can quickly decode one of these reviews back to English\n",
    "words:"
   ]
  },
  {
   "cell_type": "code",
   "execution_count": 6,
   "metadata": {},
   "outputs": [],
   "source": [
    "wordIndex = imdb.get_word_index()\n",
    "reverse_Wordindex = dict([\n",
    "    (value, key) for (key, value) in wordIndex.items()\n",
    "])\n",
    "decodedReview = ' '.join([reverse_Wordindex.get(i - 3, '?') for i in trainInputs[0]])"
   ]
  },
  {
   "cell_type": "code",
   "execution_count": 7,
   "metadata": {},
   "outputs": [
    {
     "data": {
      "text/plain": [
       "\"? this film was just brilliant casting location scenery story direction everyone's really suited the part they played and you could just imagine being there robert ? is an amazing actor and now the same being director ? father came from the same scottish island as myself so i loved the fact there was a real connection with this film the witty remarks throughout the film were great it was just brilliant so much that i bought the film as soon as it was released for ? and would recommend it to everyone to watch and the fly fishing was amazing really cried at the end it was so sad and you know what they say if you cry at a film it must have been good and this definitely was also ? to the two little boy's that played the ? of norman and paul they were just brilliant children are often left out of the ? list i think because the stars that play them all grown up are such a big profile for the whole film but these children are amazing and should be praised for what they have done don't you think the whole story was so lovely because it was true and was someone's life after all that was shared with us all\""
      ]
     },
     "execution_count": 7,
     "metadata": {},
     "output_type": "execute_result"
    }
   ],
   "source": [
    "decodedReview"
   ]
  },
  {
   "cell_type": "markdown",
   "metadata": {},
   "source": [
    "## Peparing the data :\n",
    "\n",
    "You can’t feed lists of integers into a neural network. You have to turn your lists into\n",
    "tensors. There are two ways to do that:\n",
    "- Pad your lists so that they all have the same length, turn them into an integer\n",
    "tensor of shape (samples, word_indices), and then use as the first layer in\n",
    "your network a layer capable of handling such integer tensors (the Embedding\n",
    "layer, which we’ll cover in detail later in the book).\n",
    "- One-hot encode your lists to turn them into vectors of 0s and 1s. This would\n",
    "mean, for instance, turning the sequence [3, 5] into a 10,000-dimensional vector\n",
    "that would be all 0s except for indices 3 and 5, which would be 1s. Then you\n",
    "could use as the first layer in your network a Dense layer, capable of handling\n",
    "floating-point vector data.\n",
    "\n",
    "\n",
    "Let’s go with the latter solution to vectorize the data, which you’ll do manually for\n",
    "maximum clarity"
   ]
  },
  {
   "cell_type": "code",
   "execution_count": 8,
   "metadata": {},
   "outputs": [],
   "source": [
    "import numpy as np\n",
    "\n",
    "# ------------------------------------------------\n",
    "\n",
    "def vectorizeSeq(sequences, dimension = 10000) :\n",
    "    result = np.zeros((len(sequences), dimension))\n",
    "    for i, sequence in enumerate(sequences) :\n",
    "        result[i, sequence] = 1. \n",
    "    return result\n",
    "\n",
    "# ------------------------------------------------\n",
    "\n",
    "xTrainInp = vectorizeSeq(trainInputs)       # train inputs  \n",
    "xTestInp = vectorizeSeq(testInputs)         # test inputs"
   ]
  },
  {
   "cell_type": "code",
   "execution_count": 9,
   "metadata": {},
   "outputs": [
    {
     "name": "stdout",
     "output_type": "stream",
     "text": [
      "[0. 1. 1. ... 0. 0. 0.]\n"
     ]
    }
   ],
   "source": [
    "print(xTrainInp[0])"
   ]
  },
  {
   "cell_type": "markdown",
   "metadata": {},
   "source": [
    "Vectorize our target label :"
   ]
  },
  {
   "cell_type": "code",
   "execution_count": 10,
   "metadata": {},
   "outputs": [],
   "source": [
    "yTrainT = np.asarray(trainTarget).astype('float32')\n",
    "yTestT = np.asanyarray(testTarget).astype('float32')"
   ]
  },
  {
   "cell_type": "markdown",
   "metadata": {},
   "source": [
    "## Building our neural network :"
   ]
  },
  {
   "cell_type": "code",
   "execution_count": 11,
   "metadata": {},
   "outputs": [],
   "source": [
    "# -------- Model definition ---------\n",
    "from tensorflow.keras import models, layers "
   ]
  },
  {
   "cell_type": "code",
   "execution_count": 12,
   "metadata": {},
   "outputs": [],
   "source": [
    "model = models.Sequential([\n",
    "    layers.Dense(16, activation = \"relu\", input_shape = (10000, )),\n",
    "    layers.Dense(16, activation = \"relu\"),\n",
    "    layers.Dense(1, activation = \"sigmoid\")\n",
    "\n",
    "])"
   ]
  },
  {
   "cell_type": "code",
   "execution_count": 13,
   "metadata": {},
   "outputs": [
    {
     "name": "stdout",
     "output_type": "stream",
     "text": [
      "Model: \"sequential\"\n",
      "_________________________________________________________________\n",
      "Layer (type)                 Output Shape              Param #   \n",
      "=================================================================\n",
      "dense (Dense)                (None, 16)                160016    \n",
      "_________________________________________________________________\n",
      "dense_1 (Dense)              (None, 16)                272       \n",
      "_________________________________________________________________\n",
      "dense_2 (Dense)              (None, 1)                 17        \n",
      "=================================================================\n",
      "Total params: 160,305\n",
      "Trainable params: 160,305\n",
      "Non-trainable params: 0\n",
      "_________________________________________________________________\n"
     ]
    }
   ],
   "source": [
    "model.summary()"
   ]
  },
  {
   "cell_type": "code",
   "execution_count": 14,
   "metadata": {},
   "outputs": [
    {
     "data": {
      "text/plain": [
       "[<keras.layers.core.Dense at 0x26c126454f0>,\n",
       " <keras.layers.core.Dense at 0x26c22a08040>,\n",
       " <keras.layers.core.Dense at 0x26c22a082b0>]"
      ]
     },
     "execution_count": 14,
     "metadata": {},
     "output_type": "execute_result"
    }
   ],
   "source": [
    "list(model.layers)"
   ]
  },
  {
   "cell_type": "markdown",
   "metadata": {},
   "source": [
    "## Compiling the model :"
   ]
  },
  {
   "cell_type": "code",
   "execution_count": 15,
   "metadata": {},
   "outputs": [],
   "source": [
    "model.compile(optimizer = 'rmsprop', \n",
    "              loss = 'binary_crossentropy', \n",
    "              metrics = ['accuracy']\n",
    "              )"
   ]
  },
  {
   "cell_type": "markdown",
   "metadata": {},
   "source": [
    "You’re passing your optimizer, loss function, and metrics as strings, which is possible\n",
    "because rmsprop, binary_crossentropy, and accuracy are packaged as part of Keras.\n",
    "Sometimes you may want to configure the parameters of your optimizer or pass a custom\n",
    "loss function or metric function. The former can be done by passing an optimizer\n",
    "class instance as the optimizer argument.\n",
    "\n",
    "the latter can be\n",
    "done by passing function objects as the loss and/or metrics arguments."
   ]
  },
  {
   "cell_type": "markdown",
   "metadata": {},
   "source": [
    "## Configuring the optimizer :"
   ]
  },
  {
   "cell_type": "code",
   "execution_count": 16,
   "metadata": {},
   "outputs": [],
   "source": [
    "from tensorflow.keras import optimizers\n",
    "\n",
    "model.compile(optimizer = optimizers.RMSprop(lr = .001), \n",
    "              loss = 'binary_crossentropy', \n",
    "              metrics = ['accuracy']\n",
    "              )"
   ]
  },
  {
   "cell_type": "markdown",
   "metadata": {},
   "source": [
    "## Using custom losses and metrics :"
   ]
  },
  {
   "cell_type": "code",
   "execution_count": 17,
   "metadata": {},
   "outputs": [],
   "source": [
    "from tensorflow.keras import losses, metrics\n",
    "\n",
    "model.compile(optimizer = optimizers.RMSprop(lr = .001), \n",
    "              loss = losses.binary_crossentropy,\n",
    "              metrics = [metrics.binary_accuracy]                \n",
    "             )"
   ]
  },
  {
   "cell_type": "markdown",
   "metadata": {},
   "source": [
    "## Validating our approach :\n",
    "\n",
    "In order to monitor during training the accuracy of the model on data it has never\n",
    "seen before, we'll create a validation set by setting apart 10,000 samples from the\n",
    "original training data."
   ]
  },
  {
   "cell_type": "code",
   "execution_count": 18,
   "metadata": {},
   "outputs": [],
   "source": [
    "xVal = xTrainInp[:10000]\n",
    "partialXTrain = xTrainInp[10000:]\n",
    "yVal = yTrainT[:10000]\n",
    "partialyTrain = yTrainT[10000:]"
   ]
  },
  {
   "cell_type": "code",
   "execution_count": 19,
   "metadata": {},
   "outputs": [],
   "source": [
    "%%capture\n",
    "history = model.fit(partialXTrain, partialyTrain, epochs = 20, \n",
    "                    batch_size = 20, validation_data = (xVal, yVal))"
   ]
  },
  {
   "cell_type": "code",
   "execution_count": 20,
   "metadata": {},
   "outputs": [
    {
     "data": {
      "text/plain": [
       "dict_keys(['loss', 'binary_accuracy', 'val_loss', 'val_binary_accuracy'])"
      ]
     },
     "execution_count": 20,
     "metadata": {},
     "output_type": "execute_result"
    }
   ],
   "source": [
    "history_dict = history.history\n",
    "history_dict.keys()"
   ]
  },
  {
   "cell_type": "markdown",
   "metadata": {},
   "source": [
    "The dictionary contains four entries: one per metric that was being monitored during\n",
    "training and during validation. In the following two listing, let’s use Matplotlib to plot\n",
    "the training and validation loss side by side as well as the training and\n",
    "validation accuracy. Note that your own results may vary slightly due to\n",
    "a different random initialization of your network."
   ]
  },
  {
   "cell_type": "markdown",
   "metadata": {},
   "source": [
    "## Plotting the training and validation loss :"
   ]
  },
  {
   "cell_type": "code",
   "execution_count": 21,
   "metadata": {},
   "outputs": [],
   "source": [
    "import matplotlib.pyplot as plt \n",
    "%matplotlib inline "
   ]
  },
  {
   "cell_type": "code",
   "execution_count": 22,
   "metadata": {},
   "outputs": [
    {
     "data": {
      "image/png": "[encoded data removed]",
      "text/plain": [
       "<Figure size 960x560 with 1 Axes>"
      ]
     },
     "metadata": {},
     "output_type": "display_data"
    }
   ],
   "source": [
    "history_dict = history.history\n",
    "loss_values = history_dict['loss']\n",
    "val_loss = history_dict['val_loss']\n",
    "\n",
    "acc = history_dict['binary_accuracy']\n",
    "epochs = range(1, len(acc) + 1)\n",
    "\n",
    "plt.style.use('seaborn-whitegrid')\n",
    "plt.figure(figsize = (12, 7), dpi = 80)\n",
    "plt.plot(epochs, loss_values, 'orange', label = 'Training loss')\n",
    "plt.plot(epochs, val_loss, 'plum', label = 'Validation loss')\n",
    "plt.title('Training and validation loss')\n",
    "plt.xlabel('Epochs')\n",
    "plt.ylabel('Loss')\n",
    "plt.legend()\n",
    "plt.show()"
   ]
  },
  {
   "cell_type": "markdown",
   "metadata": {},
   "source": [
    "## Plotting the training accuracy :"
   ]
  },
  {
   "cell_type": "code",
   "execution_count": 23,
   "metadata": {},
   "outputs": [
    {
     "data": {
      "image/png": "[encoded data removed]",
      "text/plain": [
       "<Figure size 960x560 with 1 Axes>"
      ]
     },
     "metadata": {},
     "output_type": "display_data"
    }
   ],
   "source": [
    "# plt.clf()         <<- clears the figure\n",
    "\n",
    "acc_values = history_dict['binary_accuracy']\n",
    "val_acc = history_dict['val_binary_accuracy']\n",
    "\n",
    "plt.figure(figsize = (12, 7), dpi = 80)\n",
    "plt.plot(epochs, acc_values, 'g', label = 'Training accuracy')\n",
    "plt.plot(epochs, val_acc, 'skyblue', label = 'Validation accuracy')\n",
    "plt.title('Training and validation accuracy')\n",
    "plt.xlabel('Epochs')\n",
    "plt.ylabel('Loss')\n",
    "plt.legend()\n",
    "plt.show()"
   ]
  },
  {
   "cell_type": "markdown",
   "metadata": {},
   "source": [
    "As you can see, the training loss decreases with every epoch, and the training accuracy\n",
    "increases with every epoch. That’s what you would expect when running gradientdescent\n",
    "optimization—the quantity you’re trying to minimize should be less with\n",
    "every iteration. But that isn’t the case for the validation loss and accuracy: they seem to\n",
    "peak at the fourth epoch. This is an example of what we warned against earlier: a\n",
    "model that performs better on the training data isn’t necessarily a model that will do\n",
    "better on data it has never seen before. In precise terms, what you’re seeing is overfitting:\n",
    "after the second epoch, you’re overoptimizing on the training data, and you end\n",
    "up learning representations that are specific to the training data and don’t generalize\n",
    "to data outside of the training set.\n",
    "\n",
    "In this case, to prevent overfitting, you could stop training after three epochs. In\n",
    "general, you can use a range of techniques to mitigate overfitting.\n",
    "\n",
    "Let’s train a new network from scratch for four epochs and then evaluate it on the\n",
    "test data."
   ]
  },
  {
   "cell_type": "code",
   "execution_count": 24,
   "metadata": {},
   "outputs": [],
   "source": [
    "%%capture\n",
    "Net = models.Sequential([\n",
    "      layers.Dense(16, activation = \"relu\", input_shape = (10000, )),\n",
    "      layers.Dense(16, activation = \"relu\"),\n",
    "      layers.Dense(1, activation = \"sigmoid\")\n",
    "      ])\n",
    "\n",
    "# ---------------------------------------------------------\n",
    "\n",
    "Net.compile(optimizer = optimizers.RMSprop(lr = .001), \n",
    "            loss = losses.binary_crossentropy, \n",
    "            metrics = [metrics.binary_accuracy])\n",
    "\n",
    "# ---------------------------------------------------------\n",
    "\n",
    "Net.fit(xTrainInp, yTrainT, epochs = 4, batch_size = 512)\n",
    "res = Net.evaluate(xTestInp, yTestT)"
   ]
  },
  {
   "cell_type": "code",
   "execution_count": 38,
   "metadata": {},
   "outputs": [
    {
     "name": "stdout",
     "output_type": "stream",
     "text": [
      "0.3 % \n",
      "0.88 % \n"
     ]
    }
   ],
   "source": [
    "# print(res) \n",
    "# >> [0.2987891137599945, 0.8804000020027161]\n",
    "\n",
    "for i in res :\n",
    "    print(round(i, 2), end = ' % \\n', ) "
   ]
  },
  {
   "cell_type": "markdown",
   "metadata": {},
   "source": [
    "## Using a trained network to generate predictions on new data :"
   ]
  },
  {
   "cell_type": "code",
   "execution_count": 26,
   "metadata": {},
   "outputs": [
    {
     "name": "stdout",
     "output_type": "stream",
     "text": [
      "[[0.19693413]\n",
      " [0.99996996]\n",
      " [0.928337  ]\n",
      " ...\n",
      " [0.14677387]\n",
      " [0.09950625]\n",
      " [0.68554896]]\n"
     ]
    }
   ],
   "source": [
    "print(Net.predict(xTestInp))"
   ]
  },
  {
   "cell_type": "code",
   "execution_count": null,
   "metadata": {},
   "outputs": [],
   "source": []
  }
 ],
 "metadata": {
  "interpreter": {
   "hash": "c35f6eac6f3fe6d44c0d00cedee1307ae7ac6edc6c6c5d60ef5de60b3ff09a2d"
  },
  "kernelspec": {
   "display_name": "Python 3",
   "language": "python",
   "name": "python3"
  },
  "language_info": {
   "codemirror_mode": {
    "name": "ipython",
    "version": 3
   },
   "file_extension": ".py",
   "mimetype": "text/x-python",
   "name": "python",
   "nbconvert_exporter": "python",
   "pygments_lexer": "ipython3",
   "version": "3.8.11"
  }
 },
 "nbformat": 4,
 "nbformat_minor": 2
}
