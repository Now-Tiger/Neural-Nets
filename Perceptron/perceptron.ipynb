{
 "cells": [
  {
   "cell_type": "markdown",
   "id": "939c5ae3",
   "metadata": {},
   "source": [
    "# Perceptron"
   ]
  },
  {
   "cell_type": "markdown",
   "id": "89dccbf4",
   "metadata": {},
   "source": [
    "__The Perceptron is a linear machine learning algorithm for binary classification tasks.__\n",
    "\n",
    "It may be considered one of the first and one of the simplest types of artificial neural networks. It is definitely not “deep” learning but is an important building block.\n",
    "\n",
    "Like logistic regression, it can quickly learn a linear separation in feature space for two-class classification tasks, although unlike logistic regression, it learns using the stochastic gradient descent optimization algorithm and does not predict calibrated probabilities."
   ]
  },
  {
   "cell_type": "markdown",
   "id": "46b28950",
   "metadata": {},
   "source": [
    "# Perceptron Algorithm\n",
    "\n",
    "The Perceptron algorithm is a two-class (binary) classification machine learning algorithm.\n",
    "\n",
    "It is a type of neural network model, perhaps the simplest type of neural network model.\n",
    "\n",
    "It consists of a single node or neuron that takes a row of data as input and predicts a class label. This is achieved by calculating the weighted sum of the inputs and a bias (set to 1). The weighted sum of the input of the model is called the activation.\n",
    "\n",
    "- Activation = Weights * Inputs + Bias<br><br>\n",
    "__If the activation is above 0.0, the model will output 1.0; otherwise, it will output 0.0__<br><br>\n",
    "\n",
    "- Predict 1: If Activation > 0.0\n",
    "- Predict 0: If Activation <= 0.0"
   ]
  },
  {
   "cell_type": "markdown",
   "id": "f2a08111",
   "metadata": {},
   "source": [
    "Model weights are updated with a small proportion of the error each batch, and the proportion is controlled by a hyperparameter called the learning rate, typically set to a small value. This is to ensure learning does not occur too quickly, resulting in a possibly lower skill model, referred to as premature convergence of the optimization (search) procedure for the model weights.\n",
    "\n",
    "__weights(t + 1) = weights(t) + learning_rate * (expected_i – predicted_) * input_i__<br>\n",
    "\n",
    "Training is stopped when the error made by the model falls to a low level or no longer improves, or a maximum number of epochs is performed.\n",
    "\n",
    "The learning rate and number of training epochs are hyperparameters of the algorithm that can be set using heuristics or hyperparameter tuning."
   ]
  },
  {
   "cell_type": "code",
   "execution_count": 1,
   "id": "f834e8a2",
   "metadata": {},
   "outputs": [],
   "source": [
    "from sklearn.datasets import make_classification\n",
    "from sklearn.model_selection import GridSearchCV, RepeatedStratifiedKFold\n",
    "from sklearn.linear_model import Perceptron"
   ]
  },
  {
   "cell_type": "code",
   "execution_count": 2,
   "id": "00081547",
   "metadata": {},
   "outputs": [
    {
     "name": "stdout",
     "output_type": "stream",
     "text": [
      "Mean Accuracy : 0.857\n",
      "--------------------------------------------------\n",
      "Config : {'max_iter': 10}\n",
      "--------------------------------------------------\n",
      "0.85 with : {'max_iter': 1}\n",
      "0.857 with : {'max_iter': 10}\n",
      "0.857 with : {'max_iter': 100}\n",
      "0.857 with : {'max_iter': 1000}\n",
      "0.857 with : {'max_iter': 10000}\n"
     ]
    }
   ],
   "source": [
    "if __name__ == '__main__' :\n",
    "    X, y = make_classification(n_samples = 1000, \n",
    "                               n_features = 10, n_informative = 10, \n",
    "                               n_redundant = 0, random_state = 1)\n",
    "\n",
    "    model = Perceptron(eta0=0.0001)\n",
    "\n",
    "    cv = RepeatedStratifiedKFold(n_splits = 10, n_repeats = 3, random_state = 1)\n",
    "\n",
    "    grid = dict()\n",
    "    grid['max_iter'] = [1, 10, 100, 1000, 10000]\n",
    "\n",
    "    search = GridSearchCV(model, grid, scoring = 'accuracy', cv = cv, n_jobs = -1)\n",
    "    \n",
    "    result = search.fit(X, y)\n",
    "\n",
    "    # Summarize :\n",
    "    print('Mean Accuracy : {}'.format(round(result.best_score_, 4)))\n",
    "    print('-'*50)\n",
    "    print('Config : {}'.format(result.best_params_))\n",
    "    print('-'*50)\n",
    "\n",
    "    # Summarize all :\n",
    "    means = result.cv_results_['mean_test_score']\n",
    "    params = result.cv_results_['params']\n",
    "\n",
    "    for mean, param in zip(means, params) :\n",
    "        print('{} with : {}'.format(round(mean, 3),(param)))\n",
    "    "
   ]
  },
  {
   "cell_type": "code",
   "execution_count": null,
   "id": "975d527b",
   "metadata": {},
   "outputs": [],
   "source": []
  }
 ],
 "metadata": {
  "kernelspec": {
   "display_name": "Python 3",
   "language": "python",
   "name": "python3"
  },
  "language_info": {
   "codemirror_mode": {
    "name": "ipython",
    "version": 3
   },
   "file_extension": ".py",
   "mimetype": "text/x-python",
   "name": "python",
   "nbconvert_exporter": "python",
   "pygments_lexer": "ipython3",
   "version": "3.8.10"
  }
 },
 "nbformat": 4,
 "nbformat_minor": 5
}
